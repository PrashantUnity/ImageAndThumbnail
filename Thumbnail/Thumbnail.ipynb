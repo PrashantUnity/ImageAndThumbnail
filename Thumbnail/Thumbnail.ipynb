{
 "cells": [
  {
   "cell_type": "code",
   "execution_count": 37,
   "metadata": {
    "dotnet_interactive": {
     "language": "csharp"
    },
    "polyglot_notebook": {
     "kernelName": "csharp"
    },
    "vscode": {
     "languageId": "polyglot-notebook"
    }
   },
   "outputs": [
    {
     "data": {
      "text/html": [
       "<div><div></div><div></div><div><strong>Installed Packages</strong><ul><li><span>SkiaSharp, 2.88.8</span></li></ul></div></div>"
      ]
     },
     "metadata": {},
     "output_type": "display_data"
    }
   ],
   "source": [
    "#r \"nuget:SkiaSharp\""
   ]
  },
  {
   "cell_type": "code",
   "execution_count": 38,
   "metadata": {
    "vscode": {
     "languageId": "polyglot-notebook"
    }
   },
   "outputs": [],
   "source": [
    "using SkiaSharp;\n",
    "using System.Collections.Generic;\n",
    "using System.IO;"
   ]
  },
  {
   "cell_type": "code",
   "execution_count": 39,
   "metadata": {
    "vscode": {
     "languageId": "polyglot-notebook"
    }
   },
   "outputs": [],
   "source": [
    "var listOfColor = new List<SKColor>\n",
    "{\n",
    "    SKColor.Parse(\"#EEF5FF\"),\n",
    "    SKColor.Parse(\"#B4D4FF\"),\n",
    "    SKColor.Parse(\"#86B6F6\"),\n",
    "    SKColor.Parse(\"#176B87\"),\n",
    "    SKColor.Parse(\"#00A9FF\"),\n",
    "    SKColor.Parse(\"#89CFF3\"),\n",
    "    SKColor.Parse(\"#A0E9FF\"),\n",
    "    SKColor.Parse(\"#CDF5FD\"),\n",
    "    SKColor.Parse(\"#FF90BC\"),\n",
    "    SKColor.Parse(\"#FFC0D9\"),\n",
    "    SKColor.Parse(\"#F9F9E0\"),\n",
    "    SKColor.Parse(\"#8ACDD7\"),\n",
    "    SKColor.Parse(\"#F2AFEF\"),\n",
    "    SKColor.Parse(\"#C499F3\"),\n",
    "    SKColor.Parse(\"#33186B\"),\n",
    "    \n",
    "};"
   ]
  },
  {
   "cell_type": "code",
   "execution_count": 52,
   "metadata": {
    "vscode": {
     "languageId": "polyglot-notebook"
    }
   },
   "outputs": [],
   "source": [
    "string logoPath =\"iconwhite.png\";"
   ]
  },
  {
   "cell_type": "code",
   "execution_count": 49,
   "metadata": {
    "vscode": {
     "languageId": "polyglot-notebook"
    }
   },
   "outputs": [],
   "source": [
    "void DrawImage(string path, SKCanvas canvas, float x = 0, float y = 0, float width = 50, float height = 50)\n",
    "{\n",
    "    using (var inputStream = File.OpenRead(path))\n",
    "    {\n",
    "        using (var inputBitmap = SKBitmap.Decode(inputStream))\n",
    "        {\n",
    "            if (inputBitmap == null)\n",
    "            {\n",
    "                Console.WriteLine(\"Failed to decode image.\");\n",
    "                return;\n",
    "            }\n",
    "\n",
    "            // Define the source rectangle (the entire bitmap)\n",
    "            var sourceRect = new SKRect(0, 0, inputBitmap.Width, inputBitmap.Height);\n",
    "\n",
    "            // Define the destination rectangle (where to draw the bitmap)\n",
    "            var destRect = new SKRect(x, y, x + width, y + height);\n",
    "\n",
    "            // Draw the bitmap scaled to the destination rectangle\n",
    "            canvas.DrawBitmap(inputBitmap, sourceRect, destRect);\n",
    "        }\n",
    "    }\n",
    "}"
   ]
  },
  {
   "cell_type": "code",
   "execution_count": 70,
   "metadata": {
    "vscode": {
     "languageId": "polyglot-notebook"
    }
   },
   "outputs": [
    {
     "data": {
      "text/html": [
       "<div><img src=\"data:image/png;base64,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\"></img></div>"
      ]
     },
     "metadata": {},
     "output_type": "display_data"
    }
   ],
   "source": [
    "int width = 720;\n",
    "int height = 220;  \n",
    "int marginY = -10;\n",
    "int marginX = -10;\n",
    "\n",
    "string Numbering =\"Chapter 1\";\n",
    "string mainText =\"ASP.NET MVC\";\n",
    "string subText = \"Question Set 20\";\n",
    "string fontFamilyName = \"Arial\";\n",
    "\n",
    "string backGroundColor =\"#003366\";\n",
    "string textColor = \"#ffffff\";\n",
    "string boderColor = \"#ffffff\";\n",
    "SKBitmap bmp = new(width, height);\n",
    "SKCanvas canvas = new(bmp); \n",
    "canvas.Clear(SKColor.Parse(backGroundColor)); \n",
    "using (var paint = new SKPaint()) \n",
    "{\n",
    "    paint.Typeface = SKTypeface.FromFamilyName(fontFamilyName, SKFontStyle.Bold);\n",
    "    paint.TextSize = width/ 9.0f;\n",
    "    paint.IsAntialias = true;\n",
    "    paint.Color = SKColor.Parse(textColor);\n",
    "    paint.IsStroke = false;\n",
    "    paint.StrokeWidth = 3; \n",
    "    paint.TextAlign = SKTextAlign.Center; \n",
    "    canvas.DrawText(mainText, width / 2f, height / 1.8f, paint);\n",
    "    paint.TextSize = width/ 30.0f;\n",
    "    paint.TextAlign = SKTextAlign.Right;\n",
    "    canvas.DrawText(subText, width+marginX, height+marginY, paint);\n",
    "    paint.TextSize = width/ 20.0f;\n",
    "    DrawImage(logoPath,canvas,-5,height-100);\n",
    "}\n",
    "SKFileWStream fs = new(\"cover.jpg\");\n",
    "bmp.Encode(fs, SKEncodedImageFormat.Jpeg, quality: 50);\n",
    "bmp.Display(); "
   ]
  }
 ],
 "metadata": {
  "kernelspec": {
   "display_name": ".NET (C#)",
   "language": "C#",
   "name": ".net-csharp"
  },
  "language_info": {
   "name": "python"
  },
  "polyglot_notebook": {
   "kernelInfo": {
    "defaultKernelName": "csharp",
    "items": [
     {
      "aliases": [],
      "name": "csharp"
     }
    ]
   }
  }
 },
 "nbformat": 4,
 "nbformat_minor": 2
}
